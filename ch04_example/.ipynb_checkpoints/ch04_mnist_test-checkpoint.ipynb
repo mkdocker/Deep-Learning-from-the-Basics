{
 "cells": [
  {
   "cell_type": "code",
   "execution_count": null,
   "id": "2bc76dea-190d-40d9-9199-83524a773b07",
   "metadata": {},
   "outputs": [],
   "source": [
    "import tensorflow as tf\n",
    "import os\n",
    "from tensorflow.examples.tutorials.mnist import input_data\n",
    "\n",
    "def main():\n",
    "    #==========init==========\n",
    "    image_size = 28*28\n",
    "    output_num = 10\n",
    "    learning_rate = 0.001\n",
    "    loop_num = 30000\n",
    "    batch_size = 100\n",
    "\n",
    "    mnist = input_data.read_data_sets(\"MNIST_data/\", one_hot=True)\n",
    "\n",
    "    #==========model==========\n",
    "    with tf.device(\"/cpu:9\"):\n",
    "        x = tf.placeholder(tf.float32, [None, image_size])\n",
    "        W = tf.Variable(tf.zeros([image_size, output_num]))\n",
    "        b = tf.Variable(tf.zeros([output_num]))\n",
    "        y = tf.nn.softmax(tf.matmul(x, W)+b)\n",
    "        y_ = tf.placeholder(tf.float32, [None, output_num])\n",
    "\n",
    "        cross_entropy = -tf.reduce_sum(y_ * tf.log(y))\n",
    "        train_step = tf.train.GradientDescentOptimizer(learning_rate).minimize(cross_entropy)\n",
    "        correct_prediction = tf.equal(tf.argmax(y, 1), tf.argmax(y_, 1))\n",
    "        accuracy = tf.reduce_mean(tf.cast(corect_prediction, tf.float32))\n",
    "\n",
    "        init = tf.global_variables_initializer()\n",
    "        sess = tf.InteractiveSession()\n",
    "        sess.run(init)\n",
    "        \n",
    "        #==========training==========\n",
    "        for i in range(loop_num):\n",
    "            batch_xs, batch_ys = mnist.train.next_batch(batch_size)\n",
    "            sess.run(train_step, feed_dict={x: batch_xs, y_: batch_ys})\n",
    "            \n",
    "            if i%1==0:\n",
    "                print(\"step\", i, \"train_accuracy:\", sess.run(accuracy, feed_dict = {x: batch_xs, y_: batch_ys}))\n",
    "        #==========test==========\n",
    "        print(\"test_accuracy:\", sess.run(accuracy, feed_dict={x: mnist.test.images, y_:mnist.test.labels}))\n",
    "\n",
    "if __name__ == \"__main__\":\n",
    "    main()\n",
    "                                    "
   ]
  },
  {
   "cell_type": "markdown",
   "id": "3bbb4a55-4b98-4bc2-b042-91386a09fe10",
   "metadata": {},
   "source": [
    "上記は [参考サイト](https://miyabi-lab.space/blog/10)のコードだが、エラーが出る。\n",
    "原因はtensorflow.examples.tutorials.mnist は TensorFlow 2.X 以降では削除されていることである。\n",
    "代わりに tensorflow_datasets を使うか、keras の datasets を使うかする。\n",
    "\n",
    "以下、[ChatGPT](https://chatgpt.com/share/67c8f247-c2e4-800e-87ca-6098d749537f) の力を借りて書いた keras パターンを示す。これは Deep Learning from the Basics のもともとのコードに近い。"
   ]
  },
  {
   "cell_type": "code",
   "execution_count": 14,
   "id": "3b8c57ee-a99d-4fb9-af32-4fde288479ae",
   "metadata": {},
   "outputs": [
    {
     "name": "stdout",
     "output_type": "stream",
     "text": [
      "Epoch 1/5\n",
      "\u001b[1m1875/1875\u001b[0m \u001b[32m━━━━━━━━━━━━━━━━━━━━\u001b[0m\u001b[37m\u001b[0m \u001b[1m6s\u001b[0m 3ms/step - accuracy: 0.8824 - loss: 0.4193\n",
      "Epoch 2/5\n",
      "\u001b[1m1875/1875\u001b[0m \u001b[32m━━━━━━━━━━━━━━━━━━━━\u001b[0m\u001b[37m\u001b[0m \u001b[1m5s\u001b[0m 3ms/step - accuracy: 0.9642 - loss: 0.1208\n",
      "Epoch 3/5\n",
      "\u001b[1m1875/1875\u001b[0m \u001b[32m━━━━━━━━━━━━━━━━━━━━\u001b[0m\u001b[37m\u001b[0m \u001b[1m6s\u001b[0m 3ms/step - accuracy: 0.9756 - loss: 0.0801\n",
      "Epoch 4/5\n",
      "\u001b[1m1875/1875\u001b[0m \u001b[32m━━━━━━━━━━━━━━━━━━━━\u001b[0m\u001b[37m\u001b[0m \u001b[1m6s\u001b[0m 3ms/step - accuracy: 0.9824 - loss: 0.0571\n",
      "Epoch 5/5\n",
      "\u001b[1m1875/1875\u001b[0m \u001b[32m━━━━━━━━━━━━━━━━━━━━\u001b[0m\u001b[37m\u001b[0m \u001b[1m6s\u001b[0m 3ms/step - accuracy: 0.9862 - loss: 0.0444\n",
      "\u001b[1m313/313\u001b[0m \u001b[32m━━━━━━━━━━━━━━━━━━━━\u001b[0m\u001b[37m\u001b[0m \u001b[1m1s\u001b[0m 2ms/step - accuracy: 0.9705 - loss: 0.0903\n",
      "Test Accuracy: 0.9753999710083008\n"
     ]
    }
   ],
   "source": [
    "import tensorflow as tf\n",
    "from keras.datasets import mnist\n",
    "\n",
    "# MNISTデータセットのロード\n",
    "(x_train, y_train), (x_test, y_test) = mnist.load_data()\n",
    "\n",
    "# データの前処理\n",
    "x_train, x_test = x_train / 255.0, x_test / 255.0\n",
    "\n",
    "# モデルの構築\n",
    "model = tf.keras.models.Sequential([\n",
    "    tf.keras.layers.Flatten(input_shape=(28, 28)),\n",
    "    tf.keras.layers.Dense(128, activation='relu'),\n",
    "    tf.keras.layers.Dense(10, activation='softmax')\n",
    "])\n",
    "\n",
    "# モデルのコンパイル\n",
    "model.compile(optimizer='adam',\n",
    "              loss='sparse_categorical_crossentropy',\n",
    "              metrics=['accuracy'])\n",
    "\n",
    "# モデルの学習\n",
    "model.fit(x_train, y_train, epochs=5)\n",
    "\n",
    "# モデルの評価\n",
    "test_loss, test_acc = model.evaluate(x_test, y_test)\n",
    "print(f\"Test Accuracy: {test_acc}\")\n"
   ]
  },
  {
   "cell_type": "markdown",
   "id": "6071bda9-30e5-4d4d-8f51-c23632d4b901",
   "metadata": {},
   "source": [
    "### Result (neurons, accuracy, time)\n",
    "- 64, 0.9736999869346619, 25s\n",
    "- 128, 0.9753999710083008, 30s\n",
    "- 512, 0.9782000184059143, 57s"
   ]
  },
  {
   "cell_type": "markdown",
   "id": "37677365-0d07-4954-abe0-5b83fe1d26cd",
   "metadata": {},
   "source": [
    "では、続いて 交差エントロピー誤差（バッチ対応版）を実装してみる。"
   ]
  },
  {
   "cell_type": "code",
   "execution_count": null,
   "id": "7f06cd61-26a6-46c6-acbb-db5116d4fce4",
   "metadata": {},
   "outputs": [],
   "source": [
    "import tensorflow as tf\n",
    "from keras.datasets import mnist\n",
    "import numpy as np\n",
    "\n",
    "# MNISTデータセットのロード\n",
    "(x_train, y_train), (x_test, y_test) = mnist.load_data()\n",
    "\n",
    "def cross_entropy_error(y, t):\n",
    "    if y.ndim == 1:\n",
    "        t = t.reshape(1, t.size)\n",
    "        y = y.reshape(1, y.size)\n",
    "    batch_size = y.shape[0]\n",
    "    return -np.sum(np.log(y[np.arange(batch_size), t]+1e-7)) / batch_size"
   ]
  }
 ],
 "metadata": {
  "kernelspec": {
   "display_name": "Python 3 (ipykernel)",
   "language": "python",
   "name": "python3"
  },
  "language_info": {
   "codemirror_mode": {
    "name": "ipython",
    "version": 3
   },
   "file_extension": ".py",
   "mimetype": "text/x-python",
   "name": "python",
   "nbconvert_exporter": "python",
   "pygments_lexer": "ipython3",
   "version": "3.12.7"
  }
 },
 "nbformat": 4,
 "nbformat_minor": 5
}
